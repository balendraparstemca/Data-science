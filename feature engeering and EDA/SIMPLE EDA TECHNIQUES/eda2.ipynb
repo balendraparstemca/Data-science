{
  "nbformat": 4,
  "nbformat_minor": 0,
  "metadata": {
    "colab": {
      "name": "simple eda terms.ipynb",
      "provenance": []
    },
    "kernelspec": {
      "name": "python3",
      "display_name": "Python 3"
    },
    "language_info": {
      "name": "python"
    }
  },
  "cells": [
    {
      "cell_type": "markdown",
      "source": [
        "# Exploratory Data Analysis in Python | Set 1\n",
        "\n"
      ],
      "metadata": {
        "id": "763MvCUcs5HM"
      }
    },
    {
      "cell_type": "markdown",
      "source": [
        "Exploratory Data Analysis is a technique to analyze data with visual techniques and all statistical results. We will learn about how to apply these techniques before applying any Machine Learning Models."
      ],
      "metadata": {
        "id": "ARO5PI10tTnE"
      }
    },
    {
      "cell_type": "code",
      "source": [
        "import numpy as np\n",
        "import pandas as pd\n",
        "import seaborn as sns\n",
        "import matplotlib.pyplot as plt\n",
        "  \n",
        "  \n",
        "from scipy.stats import trim_mean"
      ],
      "metadata": {
        "id": "lUw7t3pbtp-w"
      },
      "execution_count": 2,
      "outputs": []
    },
    {
      "cell_type": "code",
      "execution_count": 3,
      "metadata": {
        "colab": {
          "base_uri": "https://localhost:8080/"
        },
        "id": "Wuxi1Lk1swRN",
        "outputId": "7ea04a1f-032e-4e05-c263-b8176be016b0"
      },
      "outputs": [
        {
          "output_type": "stream",
          "name": "stdout",
          "text": [
            "Type :  <class 'pandas.core.frame.DataFrame'> \n",
            "\n",
            "\n",
            "Head -- \n",
            "          State  Population  Murder.Rate Abbreviation\n",
            "0      Alabama     4779736          5.7           AL\n",
            "1       Alaska      710231          5.6           AK\n",
            "2      Arizona     6392017          4.7           AZ\n",
            "3     Arkansas     2915918          5.6           AR\n",
            "4   California    37253956          4.4           CA\n",
            "5     Colorado     5029196          2.8           CO\n",
            "6  Connecticut     3574097          2.4           CT\n",
            "7     Delaware      897934          5.8           DE\n",
            "8      Florida    18801310          5.8           FL\n",
            "9      Georgia     9687653          5.7           GA\n",
            "\n",
            "\n",
            " Tail -- \n",
            "             State  Population  Murder.Rate Abbreviation\n",
            "40   South Dakota      814180          2.3           SD\n",
            "41      Tennessee     6346105          5.7           TN\n",
            "42          Texas    25145561          4.4           TX\n",
            "43           Utah     2763885          2.3           UT\n",
            "44        Vermont      625741          1.6           VT\n",
            "45       Virginia     8001024          4.1           VA\n",
            "46     Washington     6724540          2.5           WA\n",
            "47  West Virginia     1852994          4.0           WV\n",
            "48      Wisconsin     5686986          2.9           WI\n",
            "49        Wyoming      563626          2.7           WY\n"
          ]
        }
      ],
      "source": [
        "\n",
        "data = pd.read_csv(\"state.csv\")\n",
        "  \n",
        "# Check the type of data\n",
        "print (\"Type : \", type(data), \"\\n\\n\")\n",
        "  \n",
        "# Printing Top 10 Records\n",
        "print (\"Head -- \\n\", data.head(10))\n",
        "  \n",
        "# Printing last 10 Records \n",
        "print (\"\\n\\n Tail -- \\n\", data.tail(10))"
      ]
    },
    {
      "cell_type": "markdown",
      "source": [
        "**Code #1 : Adding Column to the dataframe**"
      ],
      "metadata": {
        "id": "N7lhSA2Wt93_"
      }
    },
    {
      "cell_type": "code",
      "source": [
        "# Adding a new column with derived data \n",
        "  \n",
        "data['PopulationInMillions'] = data['Population']/1000000\n",
        "  \n",
        "# Changed data\n",
        "print (data.head(5))"
      ],
      "metadata": {
        "colab": {
          "base_uri": "https://localhost:8080/"
        },
        "id": "t9fjXXI7t9cC",
        "outputId": "e640b1e2-bd9a-474b-bb2d-93eff2310938"
      },
      "execution_count": 4,
      "outputs": [
        {
          "output_type": "stream",
          "name": "stdout",
          "text": [
            "        State  Population  Murder.Rate Abbreviation  PopulationInMillions\n",
            "0     Alabama     4779736          5.7           AL              4.779736\n",
            "1      Alaska      710231          5.6           AK              0.710231\n",
            "2     Arizona     6392017          4.7           AZ              6.392017\n",
            "3    Arkansas     2915918          5.6           AR              2.915918\n",
            "4  California    37253956          4.4           CA             37.253956\n"
          ]
        }
      ]
    },
    {
      "cell_type": "code",
      "source": [
        "data.describe()"
      ],
      "metadata": {
        "colab": {
          "base_uri": "https://localhost:8080/",
          "height": 300
        },
        "id": "_2XeS8DquLM5",
        "outputId": "7bf87913-913f-47ef-eed0-b47812bb783e"
      },
      "execution_count": 5,
      "outputs": [
        {
          "output_type": "execute_result",
          "data": {
            "text/plain": [
              "         Population  Murder.Rate  PopulationInMillions\n",
              "count  5.000000e+01    50.000000             50.000000\n",
              "mean   6.162876e+06     4.066000              6.162876\n",
              "std    6.848235e+06     1.915736              6.848235\n",
              "min    5.636260e+05     0.900000              0.563626\n",
              "25%    1.833004e+06     2.425000              1.833004\n",
              "50%    4.436370e+06     4.000000              4.436369\n",
              "75%    6.680312e+06     5.550000              6.680312\n",
              "max    3.725396e+07    10.300000             37.253956"
            ],
            "text/html": [
              "\n",
              "  <div id=\"df-5b0684fe-0f59-4aba-906f-c9a78395e86f\">\n",
              "    <div class=\"colab-df-container\">\n",
              "      <div>\n",
              "<style scoped>\n",
              "    .dataframe tbody tr th:only-of-type {\n",
              "        vertical-align: middle;\n",
              "    }\n",
              "\n",
              "    .dataframe tbody tr th {\n",
              "        vertical-align: top;\n",
              "    }\n",
              "\n",
              "    .dataframe thead th {\n",
              "        text-align: right;\n",
              "    }\n",
              "</style>\n",
              "<table border=\"1\" class=\"dataframe\">\n",
              "  <thead>\n",
              "    <tr style=\"text-align: right;\">\n",
              "      <th></th>\n",
              "      <th>Population</th>\n",
              "      <th>Murder.Rate</th>\n",
              "      <th>PopulationInMillions</th>\n",
              "    </tr>\n",
              "  </thead>\n",
              "  <tbody>\n",
              "    <tr>\n",
              "      <th>count</th>\n",
              "      <td>5.000000e+01</td>\n",
              "      <td>50.000000</td>\n",
              "      <td>50.000000</td>\n",
              "    </tr>\n",
              "    <tr>\n",
              "      <th>mean</th>\n",
              "      <td>6.162876e+06</td>\n",
              "      <td>4.066000</td>\n",
              "      <td>6.162876</td>\n",
              "    </tr>\n",
              "    <tr>\n",
              "      <th>std</th>\n",
              "      <td>6.848235e+06</td>\n",
              "      <td>1.915736</td>\n",
              "      <td>6.848235</td>\n",
              "    </tr>\n",
              "    <tr>\n",
              "      <th>min</th>\n",
              "      <td>5.636260e+05</td>\n",
              "      <td>0.900000</td>\n",
              "      <td>0.563626</td>\n",
              "    </tr>\n",
              "    <tr>\n",
              "      <th>25%</th>\n",
              "      <td>1.833004e+06</td>\n",
              "      <td>2.425000</td>\n",
              "      <td>1.833004</td>\n",
              "    </tr>\n",
              "    <tr>\n",
              "      <th>50%</th>\n",
              "      <td>4.436370e+06</td>\n",
              "      <td>4.000000</td>\n",
              "      <td>4.436369</td>\n",
              "    </tr>\n",
              "    <tr>\n",
              "      <th>75%</th>\n",
              "      <td>6.680312e+06</td>\n",
              "      <td>5.550000</td>\n",
              "      <td>6.680312</td>\n",
              "    </tr>\n",
              "    <tr>\n",
              "      <th>max</th>\n",
              "      <td>3.725396e+07</td>\n",
              "      <td>10.300000</td>\n",
              "      <td>37.253956</td>\n",
              "    </tr>\n",
              "  </tbody>\n",
              "</table>\n",
              "</div>\n",
              "      <button class=\"colab-df-convert\" onclick=\"convertToInteractive('df-5b0684fe-0f59-4aba-906f-c9a78395e86f')\"\n",
              "              title=\"Convert this dataframe to an interactive table.\"\n",
              "              style=\"display:none;\">\n",
              "        \n",
              "  <svg xmlns=\"http://www.w3.org/2000/svg\" height=\"24px\"viewBox=\"0 0 24 24\"\n",
              "       width=\"24px\">\n",
              "    <path d=\"M0 0h24v24H0V0z\" fill=\"none\"/>\n",
              "    <path d=\"M18.56 5.44l.94 2.06.94-2.06 2.06-.94-2.06-.94-.94-2.06-.94 2.06-2.06.94zm-11 1L8.5 8.5l.94-2.06 2.06-.94-2.06-.94L8.5 2.5l-.94 2.06-2.06.94zm10 10l.94 2.06.94-2.06 2.06-.94-2.06-.94-.94-2.06-.94 2.06-2.06.94z\"/><path d=\"M17.41 7.96l-1.37-1.37c-.4-.4-.92-.59-1.43-.59-.52 0-1.04.2-1.43.59L10.3 9.45l-7.72 7.72c-.78.78-.78 2.05 0 2.83L4 21.41c.39.39.9.59 1.41.59.51 0 1.02-.2 1.41-.59l7.78-7.78 2.81-2.81c.8-.78.8-2.07 0-2.86zM5.41 20L4 18.59l7.72-7.72 1.47 1.35L5.41 20z\"/>\n",
              "  </svg>\n",
              "      </button>\n",
              "      \n",
              "  <style>\n",
              "    .colab-df-container {\n",
              "      display:flex;\n",
              "      flex-wrap:wrap;\n",
              "      gap: 12px;\n",
              "    }\n",
              "\n",
              "    .colab-df-convert {\n",
              "      background-color: #E8F0FE;\n",
              "      border: none;\n",
              "      border-radius: 50%;\n",
              "      cursor: pointer;\n",
              "      display: none;\n",
              "      fill: #1967D2;\n",
              "      height: 32px;\n",
              "      padding: 0 0 0 0;\n",
              "      width: 32px;\n",
              "    }\n",
              "\n",
              "    .colab-df-convert:hover {\n",
              "      background-color: #E2EBFA;\n",
              "      box-shadow: 0px 1px 2px rgba(60, 64, 67, 0.3), 0px 1px 3px 1px rgba(60, 64, 67, 0.15);\n",
              "      fill: #174EA6;\n",
              "    }\n",
              "\n",
              "    [theme=dark] .colab-df-convert {\n",
              "      background-color: #3B4455;\n",
              "      fill: #D2E3FC;\n",
              "    }\n",
              "\n",
              "    [theme=dark] .colab-df-convert:hover {\n",
              "      background-color: #434B5C;\n",
              "      box-shadow: 0px 1px 3px 1px rgba(0, 0, 0, 0.15);\n",
              "      filter: drop-shadow(0px 1px 2px rgba(0, 0, 0, 0.3));\n",
              "      fill: #FFFFFF;\n",
              "    }\n",
              "  </style>\n",
              "\n",
              "      <script>\n",
              "        const buttonEl =\n",
              "          document.querySelector('#df-5b0684fe-0f59-4aba-906f-c9a78395e86f button.colab-df-convert');\n",
              "        buttonEl.style.display =\n",
              "          google.colab.kernel.accessAllowed ? 'block' : 'none';\n",
              "\n",
              "        async function convertToInteractive(key) {\n",
              "          const element = document.querySelector('#df-5b0684fe-0f59-4aba-906f-c9a78395e86f');\n",
              "          const dataTable =\n",
              "            await google.colab.kernel.invokeFunction('convertToInteractive',\n",
              "                                                     [key], {});\n",
              "          if (!dataTable) return;\n",
              "\n",
              "          const docLinkHtml = 'Like what you see? Visit the ' +\n",
              "            '<a target=\"_blank\" href=https://colab.research.google.com/notebooks/data_table.ipynb>data table notebook</a>'\n",
              "            + ' to learn more about interactive tables.';\n",
              "          element.innerHTML = '';\n",
              "          dataTable['output_type'] = 'display_data';\n",
              "          await google.colab.output.renderOutput(dataTable, element);\n",
              "          const docLink = document.createElement('div');\n",
              "          docLink.innerHTML = docLinkHtml;\n",
              "          element.appendChild(docLink);\n",
              "        }\n",
              "      </script>\n",
              "    </div>\n",
              "  </div>\n",
              "  "
            ]
          },
          "metadata": {},
          "execution_count": 5
        }
      ]
    },
    {
      "cell_type": "code",
      "source": [
        "data.shape"
      ],
      "metadata": {
        "colab": {
          "base_uri": "https://localhost:8080/"
        },
        "id": "HBJPIKnTugk9",
        "outputId": "323a688e-1129-4733-ee74-8e314ce4ef77"
      },
      "execution_count": 7,
      "outputs": [
        {
          "output_type": "execute_result",
          "data": {
            "text/plain": [
              "(50, 5)"
            ]
          },
          "metadata": {},
          "execution_count": 7
        }
      ]
    },
    {
      "cell_type": "code",
      "source": [
        "\n",
        "data.info()"
      ],
      "metadata": {
        "colab": {
          "base_uri": "https://localhost:8080/"
        },
        "id": "ugRqIL4Ux1hd",
        "outputId": "4678f981-ef38-43c1-c906-9fca989f10fb"
      },
      "execution_count": 8,
      "outputs": [
        {
          "output_type": "stream",
          "name": "stdout",
          "text": [
            "<class 'pandas.core.frame.DataFrame'>\n",
            "RangeIndex: 50 entries, 0 to 49\n",
            "Data columns (total 5 columns):\n",
            " #   Column                Non-Null Count  Dtype  \n",
            "---  ------                --------------  -----  \n",
            " 0   State                 50 non-null     object \n",
            " 1   Population            50 non-null     int64  \n",
            " 2   Murder.Rate           50 non-null     float64\n",
            " 3   Abbreviation          50 non-null     object \n",
            " 4   PopulationInMillions  50 non-null     float64\n",
            "dtypes: float64(2), int64(1), object(2)\n",
            "memory usage: 2.1+ KB\n"
          ]
        }
      ]
    },
    {
      "cell_type": "code",
      "source": [
        "# Rename column heading as it \n",
        "# has '.' in it which will create\n",
        "# problems when dealing functions \n",
        "  \n",
        "data.rename(columns ={'Murder.Rate': 'MurderRate'}, inplace = True)\n",
        "  \n",
        "# Lets check the column headings\n",
        "list(data)"
      ],
      "metadata": {
        "colab": {
          "base_uri": "https://localhost:8080/"
        },
        "id": "Ym1K54VDyBjo",
        "outputId": "7d191e6d-47eb-495f-e47f-1df6d0a3c29d"
      },
      "execution_count": 9,
      "outputs": [
        {
          "output_type": "execute_result",
          "data": {
            "text/plain": [
              "['State', 'Population', 'MurderRate', 'Abbreviation', 'PopulationInMillions']"
            ]
          },
          "metadata": {},
          "execution_count": 9
        }
      ]
    },
    {
      "cell_type": "code",
      "source": [
        "\n",
        "Population_mean = data.Population.mean()\n",
        "print (\"Population Mean : \", Population_mean)\n",
        "  \n",
        "MurderRate_mean = data.MurderRate.mean()\n",
        "print (\"\\nMurderRate Mean : \", MurderRate_mean)"
      ],
      "metadata": {
        "colab": {
          "base_uri": "https://localhost:8080/"
        },
        "id": "aMI30Ruayv7M",
        "outputId": "dfcdd77d-98b6-4b22-b207-d574ee1dcd9a"
      },
      "execution_count": 10,
      "outputs": [
        {
          "output_type": "stream",
          "name": "stdout",
          "text": [
            "Population Mean :  6162876.3\n",
            "\n",
            "MurderRate Mean :  4.066\n"
          ]
        }
      ]
    },
    {
      "cell_type": "code",
      "source": [
        "\n",
        "# Mean after discarding top and \n",
        "# bottom 10 % values eliminating outliers\n",
        "  \n",
        "population_TM = trim_mean(data.Population, 0.1)\n",
        "print (\"Population trimmed mean: \", population_TM)\n",
        "  \n",
        "murder_TM = trim_mean(data.MurderRate, 0.1)\n",
        "print (\"\\nMurderRate trimmed mean: \", murder_TM)"
      ],
      "metadata": {
        "colab": {
          "base_uri": "https://localhost:8080/"
        },
        "id": "4MyQhHR80ZDD",
        "outputId": "cc883fab-a7a5-4906-cdb7-fe7b2ee794f4"
      },
      "execution_count": 11,
      "outputs": [
        {
          "output_type": "stream",
          "name": "stdout",
          "text": [
            "Population trimmed mean:  4783697.125\n",
            "\n",
            "MurderRate trimmed mean:  3.9450000000000003\n"
          ]
        }
      ]
    },
    {
      "cell_type": "code",
      "source": [
        "Population_median = data.Population.median()\n",
        "print (\"Population median : \", Population_median)\n",
        "  \n",
        "MurderRate_median = data.MurderRate.median()\n",
        "print (\"\\nMurderRate median : \", MurderRate_median)"
      ],
      "metadata": {
        "colab": {
          "base_uri": "https://localhost:8080/"
        },
        "id": "rwDPv2hC1CSW",
        "outputId": "a13393c3-3098-4fcd-c7f7-a0598f73b6c8"
      },
      "execution_count": 12,
      "outputs": [
        {
          "output_type": "stream",
          "name": "stdout",
          "text": [
            "Population median :  4436369.5\n",
            "\n",
            "MurderRate median :  4.0\n"
          ]
        }
      ]
    },
    {
      "cell_type": "code",
      "source": [
        "data"
      ],
      "metadata": {
        "colab": {
          "base_uri": "https://localhost:8080/",
          "height": 1000
        },
        "id": "KTffFvXJ1XEk",
        "outputId": "711ce085-f623-4351-965c-4ee7742215eb"
      },
      "execution_count": 14,
      "outputs": [
        {
          "output_type": "execute_result",
          "data": {
            "text/plain": [
              "             State  Population  MurderRate Abbreviation  PopulationInMillions\n",
              "0          Alabama     4779736         5.7           AL              4.779736\n",
              "1           Alaska      710231         5.6           AK              0.710231\n",
              "2          Arizona     6392017         4.7           AZ              6.392017\n",
              "3         Arkansas     2915918         5.6           AR              2.915918\n",
              "4       California    37253956         4.4           CA             37.253956\n",
              "5         Colorado     5029196         2.8           CO              5.029196\n",
              "6      Connecticut     3574097         2.4           CT              3.574097\n",
              "7         Delaware      897934         5.8           DE              0.897934\n",
              "8          Florida    18801310         5.8           FL             18.801310\n",
              "9          Georgia     9687653         5.7           GA              9.687653\n",
              "10          Hawaii     1360301         1.8           HI              1.360301\n",
              "11           Idaho     1567582         2.0           ID              1.567582\n",
              "12        Illinois    12830632         5.3           IL             12.830632\n",
              "13         Indiana     6483802         5.0           IN              6.483802\n",
              "14            Iowa     3046355         1.9           IA              3.046355\n",
              "15          Kansas     2853118         3.1           KS              2.853118\n",
              "16        Kentucky     4339367         3.6           KY              4.339367\n",
              "17       Louisiana     4533372        10.3           LA              4.533372\n",
              "18           Maine     1328361         1.6           ME              1.328361\n",
              "19        Maryland     5773552         6.1           MD              5.773552\n",
              "20   Massachusetts     6547629         2.0           MA              6.547629\n",
              "21        Michigan     9883640         5.4           MI              9.883640\n",
              "22       Minnesota     5303925         1.6           MN              5.303925\n",
              "23     Mississippi     2967297         8.6           MS              2.967297\n",
              "24        Missouri     5988927         6.6           MO              5.988927\n",
              "25         Montana      989415         3.6           MT              0.989415\n",
              "26        Nebraska     1826341         2.9           NE              1.826341\n",
              "27          Nevada     2700551         6.0           NV              2.700551\n",
              "28   New Hampshire     1316470         0.9           NH              1.316470\n",
              "29      New Jersey     8791894         3.9           NJ              8.791894\n",
              "30      New Mexico     2059179         4.8           NM              2.059179\n",
              "31        New York    19378102         3.1           NY             19.378102\n",
              "32  North Carolina     9535483         5.1           NC              9.535483\n",
              "33    North Dakota      672591         3.0           ND              0.672591\n",
              "34            Ohio    11536504         4.0           OH             11.536504\n",
              "35        Oklahoma     3751351         4.5           OK              3.751351\n",
              "36          Oregon     3831074         2.0           OR              3.831074\n",
              "37    Pennsylvania    12702379         4.8           PA             12.702379\n",
              "38    Rhode Island     1052567         2.4           RI              1.052567\n",
              "39  South Carolina     4625364         6.4           SC              4.625364\n",
              "40    South Dakota      814180         2.3           SD              0.814180\n",
              "41       Tennessee     6346105         5.7           TN              6.346105\n",
              "42           Texas    25145561         4.4           TX             25.145561\n",
              "43            Utah     2763885         2.3           UT              2.763885\n",
              "44         Vermont      625741         1.6           VT              0.625741\n",
              "45        Virginia     8001024         4.1           VA              8.001024\n",
              "46      Washington     6724540         2.5           WA              6.724540\n",
              "47   West Virginia     1852994         4.0           WV              1.852994\n",
              "48       Wisconsin     5686986         2.9           WI              5.686986\n",
              "49         Wyoming      563626         2.7           WY              0.563626"
            ],
            "text/html": [
              "\n",
              "  <div id=\"df-2e8e4c85-9f06-43b9-808f-4ed3ef4e553c\">\n",
              "    <div class=\"colab-df-container\">\n",
              "      <div>\n",
              "<style scoped>\n",
              "    .dataframe tbody tr th:only-of-type {\n",
              "        vertical-align: middle;\n",
              "    }\n",
              "\n",
              "    .dataframe tbody tr th {\n",
              "        vertical-align: top;\n",
              "    }\n",
              "\n",
              "    .dataframe thead th {\n",
              "        text-align: right;\n",
              "    }\n",
              "</style>\n",
              "<table border=\"1\" class=\"dataframe\">\n",
              "  <thead>\n",
              "    <tr style=\"text-align: right;\">\n",
              "      <th></th>\n",
              "      <th>State</th>\n",
              "      <th>Population</th>\n",
              "      <th>MurderRate</th>\n",
              "      <th>Abbreviation</th>\n",
              "      <th>PopulationInMillions</th>\n",
              "    </tr>\n",
              "  </thead>\n",
              "  <tbody>\n",
              "    <tr>\n",
              "      <th>0</th>\n",
              "      <td>Alabama</td>\n",
              "      <td>4779736</td>\n",
              "      <td>5.7</td>\n",
              "      <td>AL</td>\n",
              "      <td>4.779736</td>\n",
              "    </tr>\n",
              "    <tr>\n",
              "      <th>1</th>\n",
              "      <td>Alaska</td>\n",
              "      <td>710231</td>\n",
              "      <td>5.6</td>\n",
              "      <td>AK</td>\n",
              "      <td>0.710231</td>\n",
              "    </tr>\n",
              "    <tr>\n",
              "      <th>2</th>\n",
              "      <td>Arizona</td>\n",
              "      <td>6392017</td>\n",
              "      <td>4.7</td>\n",
              "      <td>AZ</td>\n",
              "      <td>6.392017</td>\n",
              "    </tr>\n",
              "    <tr>\n",
              "      <th>3</th>\n",
              "      <td>Arkansas</td>\n",
              "      <td>2915918</td>\n",
              "      <td>5.6</td>\n",
              "      <td>AR</td>\n",
              "      <td>2.915918</td>\n",
              "    </tr>\n",
              "    <tr>\n",
              "      <th>4</th>\n",
              "      <td>California</td>\n",
              "      <td>37253956</td>\n",
              "      <td>4.4</td>\n",
              "      <td>CA</td>\n",
              "      <td>37.253956</td>\n",
              "    </tr>\n",
              "    <tr>\n",
              "      <th>5</th>\n",
              "      <td>Colorado</td>\n",
              "      <td>5029196</td>\n",
              "      <td>2.8</td>\n",
              "      <td>CO</td>\n",
              "      <td>5.029196</td>\n",
              "    </tr>\n",
              "    <tr>\n",
              "      <th>6</th>\n",
              "      <td>Connecticut</td>\n",
              "      <td>3574097</td>\n",
              "      <td>2.4</td>\n",
              "      <td>CT</td>\n",
              "      <td>3.574097</td>\n",
              "    </tr>\n",
              "    <tr>\n",
              "      <th>7</th>\n",
              "      <td>Delaware</td>\n",
              "      <td>897934</td>\n",
              "      <td>5.8</td>\n",
              "      <td>DE</td>\n",
              "      <td>0.897934</td>\n",
              "    </tr>\n",
              "    <tr>\n",
              "      <th>8</th>\n",
              "      <td>Florida</td>\n",
              "      <td>18801310</td>\n",
              "      <td>5.8</td>\n",
              "      <td>FL</td>\n",
              "      <td>18.801310</td>\n",
              "    </tr>\n",
              "    <tr>\n",
              "      <th>9</th>\n",
              "      <td>Georgia</td>\n",
              "      <td>9687653</td>\n",
              "      <td>5.7</td>\n",
              "      <td>GA</td>\n",
              "      <td>9.687653</td>\n",
              "    </tr>\n",
              "    <tr>\n",
              "      <th>10</th>\n",
              "      <td>Hawaii</td>\n",
              "      <td>1360301</td>\n",
              "      <td>1.8</td>\n",
              "      <td>HI</td>\n",
              "      <td>1.360301</td>\n",
              "    </tr>\n",
              "    <tr>\n",
              "      <th>11</th>\n",
              "      <td>Idaho</td>\n",
              "      <td>1567582</td>\n",
              "      <td>2.0</td>\n",
              "      <td>ID</td>\n",
              "      <td>1.567582</td>\n",
              "    </tr>\n",
              "    <tr>\n",
              "      <th>12</th>\n",
              "      <td>Illinois</td>\n",
              "      <td>12830632</td>\n",
              "      <td>5.3</td>\n",
              "      <td>IL</td>\n",
              "      <td>12.830632</td>\n",
              "    </tr>\n",
              "    <tr>\n",
              "      <th>13</th>\n",
              "      <td>Indiana</td>\n",
              "      <td>6483802</td>\n",
              "      <td>5.0</td>\n",
              "      <td>IN</td>\n",
              "      <td>6.483802</td>\n",
              "    </tr>\n",
              "    <tr>\n",
              "      <th>14</th>\n",
              "      <td>Iowa</td>\n",
              "      <td>3046355</td>\n",
              "      <td>1.9</td>\n",
              "      <td>IA</td>\n",
              "      <td>3.046355</td>\n",
              "    </tr>\n",
              "    <tr>\n",
              "      <th>15</th>\n",
              "      <td>Kansas</td>\n",
              "      <td>2853118</td>\n",
              "      <td>3.1</td>\n",
              "      <td>KS</td>\n",
              "      <td>2.853118</td>\n",
              "    </tr>\n",
              "    <tr>\n",
              "      <th>16</th>\n",
              "      <td>Kentucky</td>\n",
              "      <td>4339367</td>\n",
              "      <td>3.6</td>\n",
              "      <td>KY</td>\n",
              "      <td>4.339367</td>\n",
              "    </tr>\n",
              "    <tr>\n",
              "      <th>17</th>\n",
              "      <td>Louisiana</td>\n",
              "      <td>4533372</td>\n",
              "      <td>10.3</td>\n",
              "      <td>LA</td>\n",
              "      <td>4.533372</td>\n",
              "    </tr>\n",
              "    <tr>\n",
              "      <th>18</th>\n",
              "      <td>Maine</td>\n",
              "      <td>1328361</td>\n",
              "      <td>1.6</td>\n",
              "      <td>ME</td>\n",
              "      <td>1.328361</td>\n",
              "    </tr>\n",
              "    <tr>\n",
              "      <th>19</th>\n",
              "      <td>Maryland</td>\n",
              "      <td>5773552</td>\n",
              "      <td>6.1</td>\n",
              "      <td>MD</td>\n",
              "      <td>5.773552</td>\n",
              "    </tr>\n",
              "    <tr>\n",
              "      <th>20</th>\n",
              "      <td>Massachusetts</td>\n",
              "      <td>6547629</td>\n",
              "      <td>2.0</td>\n",
              "      <td>MA</td>\n",
              "      <td>6.547629</td>\n",
              "    </tr>\n",
              "    <tr>\n",
              "      <th>21</th>\n",
              "      <td>Michigan</td>\n",
              "      <td>9883640</td>\n",
              "      <td>5.4</td>\n",
              "      <td>MI</td>\n",
              "      <td>9.883640</td>\n",
              "    </tr>\n",
              "    <tr>\n",
              "      <th>22</th>\n",
              "      <td>Minnesota</td>\n",
              "      <td>5303925</td>\n",
              "      <td>1.6</td>\n",
              "      <td>MN</td>\n",
              "      <td>5.303925</td>\n",
              "    </tr>\n",
              "    <tr>\n",
              "      <th>23</th>\n",
              "      <td>Mississippi</td>\n",
              "      <td>2967297</td>\n",
              "      <td>8.6</td>\n",
              "      <td>MS</td>\n",
              "      <td>2.967297</td>\n",
              "    </tr>\n",
              "    <tr>\n",
              "      <th>24</th>\n",
              "      <td>Missouri</td>\n",
              "      <td>5988927</td>\n",
              "      <td>6.6</td>\n",
              "      <td>MO</td>\n",
              "      <td>5.988927</td>\n",
              "    </tr>\n",
              "    <tr>\n",
              "      <th>25</th>\n",
              "      <td>Montana</td>\n",
              "      <td>989415</td>\n",
              "      <td>3.6</td>\n",
              "      <td>MT</td>\n",
              "      <td>0.989415</td>\n",
              "    </tr>\n",
              "    <tr>\n",
              "      <th>26</th>\n",
              "      <td>Nebraska</td>\n",
              "      <td>1826341</td>\n",
              "      <td>2.9</td>\n",
              "      <td>NE</td>\n",
              "      <td>1.826341</td>\n",
              "    </tr>\n",
              "    <tr>\n",
              "      <th>27</th>\n",
              "      <td>Nevada</td>\n",
              "      <td>2700551</td>\n",
              "      <td>6.0</td>\n",
              "      <td>NV</td>\n",
              "      <td>2.700551</td>\n",
              "    </tr>\n",
              "    <tr>\n",
              "      <th>28</th>\n",
              "      <td>New Hampshire</td>\n",
              "      <td>1316470</td>\n",
              "      <td>0.9</td>\n",
              "      <td>NH</td>\n",
              "      <td>1.316470</td>\n",
              "    </tr>\n",
              "    <tr>\n",
              "      <th>29</th>\n",
              "      <td>New Jersey</td>\n",
              "      <td>8791894</td>\n",
              "      <td>3.9</td>\n",
              "      <td>NJ</td>\n",
              "      <td>8.791894</td>\n",
              "    </tr>\n",
              "    <tr>\n",
              "      <th>30</th>\n",
              "      <td>New Mexico</td>\n",
              "      <td>2059179</td>\n",
              "      <td>4.8</td>\n",
              "      <td>NM</td>\n",
              "      <td>2.059179</td>\n",
              "    </tr>\n",
              "    <tr>\n",
              "      <th>31</th>\n",
              "      <td>New York</td>\n",
              "      <td>19378102</td>\n",
              "      <td>3.1</td>\n",
              "      <td>NY</td>\n",
              "      <td>19.378102</td>\n",
              "    </tr>\n",
              "    <tr>\n",
              "      <th>32</th>\n",
              "      <td>North Carolina</td>\n",
              "      <td>9535483</td>\n",
              "      <td>5.1</td>\n",
              "      <td>NC</td>\n",
              "      <td>9.535483</td>\n",
              "    </tr>\n",
              "    <tr>\n",
              "      <th>33</th>\n",
              "      <td>North Dakota</td>\n",
              "      <td>672591</td>\n",
              "      <td>3.0</td>\n",
              "      <td>ND</td>\n",
              "      <td>0.672591</td>\n",
              "    </tr>\n",
              "    <tr>\n",
              "      <th>34</th>\n",
              "      <td>Ohio</td>\n",
              "      <td>11536504</td>\n",
              "      <td>4.0</td>\n",
              "      <td>OH</td>\n",
              "      <td>11.536504</td>\n",
              "    </tr>\n",
              "    <tr>\n",
              "      <th>35</th>\n",
              "      <td>Oklahoma</td>\n",
              "      <td>3751351</td>\n",
              "      <td>4.5</td>\n",
              "      <td>OK</td>\n",
              "      <td>3.751351</td>\n",
              "    </tr>\n",
              "    <tr>\n",
              "      <th>36</th>\n",
              "      <td>Oregon</td>\n",
              "      <td>3831074</td>\n",
              "      <td>2.0</td>\n",
              "      <td>OR</td>\n",
              "      <td>3.831074</td>\n",
              "    </tr>\n",
              "    <tr>\n",
              "      <th>37</th>\n",
              "      <td>Pennsylvania</td>\n",
              "      <td>12702379</td>\n",
              "      <td>4.8</td>\n",
              "      <td>PA</td>\n",
              "      <td>12.702379</td>\n",
              "    </tr>\n",
              "    <tr>\n",
              "      <th>38</th>\n",
              "      <td>Rhode Island</td>\n",
              "      <td>1052567</td>\n",
              "      <td>2.4</td>\n",
              "      <td>RI</td>\n",
              "      <td>1.052567</td>\n",
              "    </tr>\n",
              "    <tr>\n",
              "      <th>39</th>\n",
              "      <td>South Carolina</td>\n",
              "      <td>4625364</td>\n",
              "      <td>6.4</td>\n",
              "      <td>SC</td>\n",
              "      <td>4.625364</td>\n",
              "    </tr>\n",
              "    <tr>\n",
              "      <th>40</th>\n",
              "      <td>South Dakota</td>\n",
              "      <td>814180</td>\n",
              "      <td>2.3</td>\n",
              "      <td>SD</td>\n",
              "      <td>0.814180</td>\n",
              "    </tr>\n",
              "    <tr>\n",
              "      <th>41</th>\n",
              "      <td>Tennessee</td>\n",
              "      <td>6346105</td>\n",
              "      <td>5.7</td>\n",
              "      <td>TN</td>\n",
              "      <td>6.346105</td>\n",
              "    </tr>\n",
              "    <tr>\n",
              "      <th>42</th>\n",
              "      <td>Texas</td>\n",
              "      <td>25145561</td>\n",
              "      <td>4.4</td>\n",
              "      <td>TX</td>\n",
              "      <td>25.145561</td>\n",
              "    </tr>\n",
              "    <tr>\n",
              "      <th>43</th>\n",
              "      <td>Utah</td>\n",
              "      <td>2763885</td>\n",
              "      <td>2.3</td>\n",
              "      <td>UT</td>\n",
              "      <td>2.763885</td>\n",
              "    </tr>\n",
              "    <tr>\n",
              "      <th>44</th>\n",
              "      <td>Vermont</td>\n",
              "      <td>625741</td>\n",
              "      <td>1.6</td>\n",
              "      <td>VT</td>\n",
              "      <td>0.625741</td>\n",
              "    </tr>\n",
              "    <tr>\n",
              "      <th>45</th>\n",
              "      <td>Virginia</td>\n",
              "      <td>8001024</td>\n",
              "      <td>4.1</td>\n",
              "      <td>VA</td>\n",
              "      <td>8.001024</td>\n",
              "    </tr>\n",
              "    <tr>\n",
              "      <th>46</th>\n",
              "      <td>Washington</td>\n",
              "      <td>6724540</td>\n",
              "      <td>2.5</td>\n",
              "      <td>WA</td>\n",
              "      <td>6.724540</td>\n",
              "    </tr>\n",
              "    <tr>\n",
              "      <th>47</th>\n",
              "      <td>West Virginia</td>\n",
              "      <td>1852994</td>\n",
              "      <td>4.0</td>\n",
              "      <td>WV</td>\n",
              "      <td>1.852994</td>\n",
              "    </tr>\n",
              "    <tr>\n",
              "      <th>48</th>\n",
              "      <td>Wisconsin</td>\n",
              "      <td>5686986</td>\n",
              "      <td>2.9</td>\n",
              "      <td>WI</td>\n",
              "      <td>5.686986</td>\n",
              "    </tr>\n",
              "    <tr>\n",
              "      <th>49</th>\n",
              "      <td>Wyoming</td>\n",
              "      <td>563626</td>\n",
              "      <td>2.7</td>\n",
              "      <td>WY</td>\n",
              "      <td>0.563626</td>\n",
              "    </tr>\n",
              "  </tbody>\n",
              "</table>\n",
              "</div>\n",
              "      <button class=\"colab-df-convert\" onclick=\"convertToInteractive('df-2e8e4c85-9f06-43b9-808f-4ed3ef4e553c')\"\n",
              "              title=\"Convert this dataframe to an interactive table.\"\n",
              "              style=\"display:none;\">\n",
              "        \n",
              "  <svg xmlns=\"http://www.w3.org/2000/svg\" height=\"24px\"viewBox=\"0 0 24 24\"\n",
              "       width=\"24px\">\n",
              "    <path d=\"M0 0h24v24H0V0z\" fill=\"none\"/>\n",
              "    <path d=\"M18.56 5.44l.94 2.06.94-2.06 2.06-.94-2.06-.94-.94-2.06-.94 2.06-2.06.94zm-11 1L8.5 8.5l.94-2.06 2.06-.94-2.06-.94L8.5 2.5l-.94 2.06-2.06.94zm10 10l.94 2.06.94-2.06 2.06-.94-2.06-.94-.94-2.06-.94 2.06-2.06.94z\"/><path d=\"M17.41 7.96l-1.37-1.37c-.4-.4-.92-.59-1.43-.59-.52 0-1.04.2-1.43.59L10.3 9.45l-7.72 7.72c-.78.78-.78 2.05 0 2.83L4 21.41c.39.39.9.59 1.41.59.51 0 1.02-.2 1.41-.59l7.78-7.78 2.81-2.81c.8-.78.8-2.07 0-2.86zM5.41 20L4 18.59l7.72-7.72 1.47 1.35L5.41 20z\"/>\n",
              "  </svg>\n",
              "      </button>\n",
              "      \n",
              "  <style>\n",
              "    .colab-df-container {\n",
              "      display:flex;\n",
              "      flex-wrap:wrap;\n",
              "      gap: 12px;\n",
              "    }\n",
              "\n",
              "    .colab-df-convert {\n",
              "      background-color: #E8F0FE;\n",
              "      border: none;\n",
              "      border-radius: 50%;\n",
              "      cursor: pointer;\n",
              "      display: none;\n",
              "      fill: #1967D2;\n",
              "      height: 32px;\n",
              "      padding: 0 0 0 0;\n",
              "      width: 32px;\n",
              "    }\n",
              "\n",
              "    .colab-df-convert:hover {\n",
              "      background-color: #E2EBFA;\n",
              "      box-shadow: 0px 1px 2px rgba(60, 64, 67, 0.3), 0px 1px 3px 1px rgba(60, 64, 67, 0.15);\n",
              "      fill: #174EA6;\n",
              "    }\n",
              "\n",
              "    [theme=dark] .colab-df-convert {\n",
              "      background-color: #3B4455;\n",
              "      fill: #D2E3FC;\n",
              "    }\n",
              "\n",
              "    [theme=dark] .colab-df-convert:hover {\n",
              "      background-color: #434B5C;\n",
              "      box-shadow: 0px 1px 3px 1px rgba(0, 0, 0, 0.15);\n",
              "      filter: drop-shadow(0px 1px 2px rgba(0, 0, 0, 0.3));\n",
              "      fill: #FFFFFF;\n",
              "    }\n",
              "  </style>\n",
              "\n",
              "      <script>\n",
              "        const buttonEl =\n",
              "          document.querySelector('#df-2e8e4c85-9f06-43b9-808f-4ed3ef4e553c button.colab-df-convert');\n",
              "        buttonEl.style.display =\n",
              "          google.colab.kernel.accessAllowed ? 'block' : 'none';\n",
              "\n",
              "        async function convertToInteractive(key) {\n",
              "          const element = document.querySelector('#df-2e8e4c85-9f06-43b9-808f-4ed3ef4e553c');\n",
              "          const dataTable =\n",
              "            await google.colab.kernel.invokeFunction('convertToInteractive',\n",
              "                                                     [key], {});\n",
              "          if (!dataTable) return;\n",
              "\n",
              "          const docLinkHtml = 'Like what you see? Visit the ' +\n",
              "            '<a target=\"_blank\" href=https://colab.research.google.com/notebooks/data_table.ipynb>data table notebook</a>'\n",
              "            + ' to learn more about interactive tables.';\n",
              "          element.innerHTML = '';\n",
              "          dataTable['output_type'] = 'display_data';\n",
              "          await google.colab.output.renderOutput(dataTable, element);\n",
              "          const docLink = document.createElement('div');\n",
              "          docLink.innerHTML = docLinkHtml;\n",
              "          element.appendChild(docLink);\n",
              "        }\n",
              "      </script>\n",
              "    </div>\n",
              "  </div>\n",
              "  "
            ]
          },
          "metadata": {},
          "execution_count": 14
        }
      ]
    },
    {
      "cell_type": "markdown",
      "source": [
        "# Visualizing Population per Million"
      ],
      "metadata": {
        "id": "uVJ_jSh_1idi"
      }
    },
    {
      "cell_type": "code",
      "source": [
        "\n",
        "# Plot Population In Millions\n",
        "fig, ax1 = plt.subplots()\n",
        "fig.set_size_inches(15,  9)\n",
        "  \n",
        "  \n",
        "ax1 = sns.barplot(x =\"State\", y =\"Population\", \n",
        "                  data = data.sort_values('MurderRate'), \n",
        "                                        palette =\"Set2\")\n",
        "  \n",
        "ax1.set(xlabel ='States', ylabel ='Population In Millions')\n",
        "ax1.set_title('Population in Millions by State', size = 20)\n",
        "  \n",
        "plt.xticks(rotation =-90)"
      ],
      "metadata": {
        "colab": {
          "base_uri": "https://localhost:8080/",
          "height": 710
        },
        "id": "PjGDTDzq1kud",
        "outputId": "f874c563-08b3-448f-c706-d0ccae2d0914"
      },
      "execution_count": 15,
      "outputs": [
        {
          "output_type": "execute_result",
          "data": {
            "text/plain": [
              "(array([ 0,  1,  2,  3,  4,  5,  6,  7,  8,  9, 10, 11, 12, 13, 14, 15, 16,\n",
              "        17, 18, 19, 20, 21, 22, 23, 24, 25, 26, 27, 28, 29, 30, 31, 32, 33,\n",
              "        34, 35, 36, 37, 38, 39, 40, 41, 42, 43, 44, 45, 46, 47, 48, 49]),\n",
              " <a list of 50 Text major ticklabel objects>)"
            ]
          },
          "metadata": {},
          "execution_count": 15
        },
        {
          "output_type": "display_data",
          "data": {
            "text/plain": [
              "<Figure size 1080x648 with 1 Axes>"
            ],
            "image/png": "[encoded data removed]"
          },
          "metadata": {
            "needs_background": "light"
          }
        }
      ]
    },
    {
      "cell_type": "markdown",
      "source": [
        "# Visualizing Murder Rate per Lakh"
      ],
      "metadata": {
        "id": "AVnPRg6S2hxP"
      }
    },
    {
      "cell_type": "code",
      "source": [
        "# Plot Murder Rate per 1, 00, 000\n",
        "  \n",
        "fig, ax2 = plt.subplots()\n",
        "fig.set_size_inches(15,  9)\n",
        "  \n",
        "  \n",
        "ax2 = sns.barplot(\n",
        "    x =\"State\", y =\"MurderRate\", \n",
        "    data = data.sort_values('MurderRate', ascending = 1), \n",
        "                                         palette =\"husl\")\n",
        "  \n",
        "ax2.set(xlabel ='States', ylabel ='Murder Rate per 100000')\n",
        "ax2.set_title('Murder Rate by State', size = 20)\n",
        "  \n",
        "plt.xticks(rotation =-90)"
      ],
      "metadata": {
        "colab": {
          "base_uri": "https://localhost:8080/",
          "height": 710
        },
        "id": "4xfBdh4A2guw",
        "outputId": "adedd027-99ec-40e9-c7f5-d8108959e36b"
      },
      "execution_count": 16,
      "outputs": [
        {
          "output_type": "execute_result",
          "data": {
            "text/plain": [
              "(array([ 0,  1,  2,  3,  4,  5,  6,  7,  8,  9, 10, 11, 12, 13, 14, 15, 16,\n",
              "        17, 18, 19, 20, 21, 22, 23, 24, 25, 26, 27, 28, 29, 30, 31, 32, 33,\n",
              "        34, 35, 36, 37, 38, 39, 40, 41, 42, 43, 44, 45, 46, 47, 48, 49]),\n",
              " <a list of 50 Text major ticklabel objects>)"
            ]
          },
          "metadata": {},
          "execution_count": 16
        },
        {
          "output_type": "display_data",
          "data": {
            "text/plain": [
              "<Figure size 1080x648 with 1 Axes>"
            ],
            "image/png": "[encoded data removed]"
          },
          "metadata": {
            "needs_background": "light"
          }
        }
      ]
    },
    {
      "cell_type": "markdown",
      "source": [
        "**Code #1 : Standard Deviation**"
      ],
      "metadata": {
        "id": "d4NI9gui5-Bs"
      }
    },
    {
      "cell_type": "code",
      "source": [
        "\n",
        "Population_std = data.Population.std()\n",
        "print (\"Population std : \", Population_std)\n",
        "  \n",
        "MurderRate_std = data.MurderRate.std()\n",
        "print (\"\\nMurderRate std : \", MurderRate_std)"
      ],
      "metadata": {
        "colab": {
          "base_uri": "https://localhost:8080/"
        },
        "id": "3Iy4uPZ727EU",
        "outputId": "4093c9bf-7622-49ea-f442-d625738aea54"
      },
      "execution_count": 17,
      "outputs": [
        {
          "output_type": "stream",
          "name": "stdout",
          "text": [
            "Population std :  6848235.347401142\n",
            "\n",
            "MurderRate std :  1.915736124302923\n"
          ]
        }
      ]
    },
    {
      "cell_type": "markdown",
      "source": [
        "**Code #2 : Variance**\n",
        "\n",
        "\n",
        "\n"
      ],
      "metadata": {
        "id": "OEbKrqGU52j4"
      }
    },
    {
      "cell_type": "code",
      "source": [
        "Population_var = data.Population.var()\n",
        "print (\"Population var : \", Population_var)\n",
        "  \n",
        "MurderRate_var = data.MurderRate.var()\n",
        "print (\"\\nMurderRate var : \", MurderRate_var)"
      ],
      "metadata": {
        "colab": {
          "base_uri": "https://localhost:8080/"
        },
        "id": "7NwiQ5tJ2_8R",
        "outputId": "6a71071f-4691-419a-b528-4ed4f56a066e"
      },
      "execution_count": 18,
      "outputs": [
        {
          "output_type": "stream",
          "name": "stdout",
          "text": [
            "Population var :  46898327373394.445\n",
            "\n",
            "MurderRate var :  3.670044897959184\n"
          ]
        }
      ]
    },
    {
      "cell_type": "code",
      "source": [
        "population_IQR = data.Population.describe()['75%'] - data.Population.describe()['25%']"
      ],
      "metadata": {
        "id": "LS3pzbta3jPk"
      },
      "execution_count": 38,
      "outputs": []
    },
    {
      "cell_type": "markdown",
      "source": [
        "**Code #3 : Inter Quartile Range**"
      ],
      "metadata": {
        "id": "LwjkoP0Q5vsc"
      }
    },
    {
      "cell_type": "code",
      "source": [
        "# Inter Quartile Range of Population\n",
        "population_IQR = data.Population.describe()['75%'] -  data.Population.describe()['25%']\n",
        "  \n",
        "print (\"Population IQR : \", population_IQR)\n",
        "  \n",
        "# Inter Quartile Range of Murder Rate\n",
        "MurderRate_IQR = data.MurderRate.describe()['75%'] -  data.MurderRate.describe()['25%']\n",
        "  \n",
        "print (\"\\nMurderRate IQR : \", MurderRate_IQR)"
      ],
      "metadata": {
        "colab": {
          "base_uri": "https://localhost:8080/"
        },
        "id": "EWhHCM2G3FmB",
        "outputId": "aaf2ed68-c782-4ae0-8892-0e92817c10b0"
      },
      "execution_count": 39,
      "outputs": [
        {
          "output_type": "stream",
          "name": "stdout",
          "text": [
            "Population IQR :  4847308.0\n",
            "\n",
            "MurderRate IQR :  3.125\n"
          ]
        }
      ]
    },
    {
      "cell_type": "markdown",
      "source": [
        "**Code #4 : Median Absolute Deviation (MAD)**"
      ],
      "metadata": {
        "id": "dh1pUgZ65lfb"
      }
    },
    {
      "cell_type": "code",
      "source": [
        "Population_mad = data.Population.mad()\n",
        "print (\"Population mad : \", Population_mad)\n",
        "  \n",
        "MurderRate_mad = data.MurderRate.mad()\n",
        "print (\"\\nMurderRate mad : \", MurderRate_mad)"
      ],
      "metadata": {
        "colab": {
          "base_uri": "https://localhost:8080/"
        },
        "id": "NxY9bR1-5fhm",
        "outputId": "912e0bc8-0a8e-47cd-ea25-e2a3de67a467"
      },
      "execution_count": 41,
      "outputs": [
        {
          "output_type": "stream",
          "name": "stdout",
          "text": [
            "Population mad :  4450933.356000001\n",
            "\n",
            "MurderRate mad :  1.5526400000000005\n"
          ]
        }
      ]
    }
  ]
}